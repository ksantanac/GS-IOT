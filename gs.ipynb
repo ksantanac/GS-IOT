{
 "cells": [
  {
   "cell_type": "markdown",
   "metadata": {},
   "source": [
    "## Exploração de dados"
   ]
  },
  {
   "cell_type": "markdown",
   "metadata": {},
   "source": [
    "Link do dataset no Kaggle: **https://www.kaggle.com/datasets/shreyanshverma27/water-quality-testing/data**"
   ]
  },
  {
   "cell_type": "code",
   "execution_count": null,
   "metadata": {},
   "outputs": [],
   "source": [
    "import pandas as pd\n",
    "import numpy as np"
   ]
  },
  {
   "cell_type": "code",
   "execution_count": null,
   "metadata": {},
   "outputs": [],
   "source": [
    "dados = pd.read_csv(\"Water Quality Testing.csv\")\n",
    "dados"
   ]
  },
  {
   "cell_type": "markdown",
   "metadata": {},
   "source": [
    "### Dropando coluna ID"
   ]
  },
  {
   "cell_type": "code",
   "execution_count": null,
   "metadata": {},
   "outputs": [],
   "source": [
    "dados_dropado = dados.drop(columns=[\"ID Amostra\"])\n",
    "dados_dropado"
   ]
  },
  {
   "cell_type": "markdown",
   "metadata": {},
   "source": [
    "\n",
    "### Criando a coluna \"condicao_animais_marinhos\""
   ]
  },
  {
   "cell_type": "markdown",
   "metadata": {},
   "source": [
    "Para determinar se as condições da água estão prejudiciais para os animais marinhos com base nos dados fornecidos (pH, Temperatura, Turbidez, Oxigênio Dissolvido e Condutividade), podemos estabelecer critérios gerais com base em padrões aceitos para esses parâmetros. Aqui está um exemplo de como você pode criar uma coluna no seu dataframe para indicar se as condições são prejudiciais ou não:\n",
    "\n",
    "Definir Critérios de Qualidade da Água:\n",
    "\n",
    "Os critérios podem variar dependendo da região e do tipo de animais marinhos em questão. Vou usar valores genéricos para ilustração.\n",
    "Exemplo de Critérios:\n",
    "\n",
    "pH: Geralmente, valores fora da faixa de 6.5 a 8.5 podem ser prejudiciais.\n",
    "\n",
    "Temperatura: Varia dependendo das espécies, mas temperatura acima de 30°C será considerada prejudicial..\n",
    "\n",
    "Turbidez: Valores elevados indicam alta quantidade de partículas em suspensão, turbidez acima de 20 NTU será considerada prejudicial.\n",
    "\n",
    "Oxigênio Dissolvido: Valores abaixo de 4 mg/L podem ser prejudiciais para muitas espécies.\n",
    "\n",
    "Condutividade: Valores muito altos podem indicar alta concentração de sais, condutividade acima de 1000 µS/cm será considerada prejudicial.\n"
   ]
  },
  {
   "cell_type": "code",
   "execution_count": null,
   "metadata": {},
   "outputs": [],
   "source": [
    "\n",
    "df = pd.DataFrame(dados_dropado)\n",
    "\n",
    "# Função para verificar se as condições são prejudiciais\n",
    "def condição_prejudicial(row):\n",
    "    # Critérios de qualidade da água (valores genéricos)\n",
    "    crit_pH = (row['pH'] < 6.5 or row['pH'] > 8.5)\n",
    "    crit_OD = (row['Oxigênio Dissolvido (mg/L)'] < 4.0)\n",
    "    crit_Turbidez = (row['Turbidez (NTU)'] > 20)  # Exemplo de critério para turbidez\n",
    "    crit_Condutividade = (row['Condutividade (µS/cm)'] > 1000)  # Exemplo de critério para condutividade\n",
    "    crit_Temperatura = (row['Temperatura (°C)'] > 30)  # Exemplo de critério para temperatura\n",
    "\n",
    "    # Verifica se pelo menos um critério é verdadeiro\n",
    "    if crit_pH or crit_OD or crit_Turbidez or crit_Condutividade or crit_Temperatura:\n",
    "        return 1\n",
    "    else:\n",
    "        return 0\n"
   ]
  },
  {
   "cell_type": "markdown",
   "metadata": {},
   "source": [
    "### Gerando dados aleatórios para coluna \"condicao_animais_marinhos\" ser prejudicial para o treinamento da IA e add ao df"
   ]
  },
  {
   "cell_type": "code",
   "execution_count": null,
   "metadata": {},
   "outputs": [],
   "source": [
    "# Gerar 200 dados prejudiciais aleatórios\n",
    "np.random.seed(0)  # Seed para reprodutibilidade\n",
    "n_prejudiciais = 350\n",
    "\n",
    "# Gerar valores aleatórios\n",
    "pH_prejudicial = np.random.uniform(low=4.0, high=9.0, size=n_prejudiciais)\n",
    "temperatura_prejudicial = np.random.uniform(low=20.0, high=35.0, size=n_prejudiciais)\n",
    "turbidez_prejudicial = np.random.uniform(low=20.0, high=50.0, size=n_prejudiciais)\n",
    "OD_prejudicial = np.random.uniform(low=2.0, high=3.9, size=n_prejudiciais)\n",
    "condutividade_prejudicial = np.random.uniform(low=800, high=1500, size=n_prejudiciais)\n",
    "\n",
    "# Criar DataFrame com dados prejudiciais\n",
    "novos_dados = {\n",
    "    'pH': pH_prejudicial,\n",
    "    'Temperatura (°C)': temperatura_prejudicial,\n",
    "    'Turbidez (NTU)': turbidez_prejudicial,\n",
    "    'Oxigênio Dissolvido (mg/L)': OD_prejudicial,\n",
    "    'Condutividade (µS/cm)': condutividade_prejudicial,\n",
    "    'condicao_animais_marinhos': ['Prejudicial'] * n_prejudiciais\n",
    "}\n",
    "\n",
    "df_novos = pd.DataFrame(novos_dados)\n",
    "\n",
    "# Adicionar os novos dados ao DataFrame original\n",
    "df = pd.concat([df, df_novos], ignore_index=True)\n",
    "\n",
    "# Aplicar a função para verificar as condições\n",
    "df['condicao_animais_marinhos'] = df.apply(condição_prejudicial, axis=1)\n"
   ]
  },
  {
   "cell_type": "code",
   "execution_count": null,
   "metadata": {},
   "outputs": [],
   "source": [
    "# Visualizar os primeiros registros para verificar\n",
    "dados_mar = df\n",
    "dados_mar.head()"
   ]
  },
  {
   "cell_type": "code",
   "execution_count": null,
   "metadata": {},
   "outputs": [],
   "source": [
    "# Visualizar os ultimos registros para verificar\n",
    "dados_mar.tail()"
   ]
  },
  {
   "cell_type": "markdown",
   "metadata": {},
   "source": [
    "## Treinamento do modelo KNN"
   ]
  },
  {
   "cell_type": "code",
   "execution_count": null,
   "metadata": {},
   "outputs": [],
   "source": [
    "import numpy as np\n",
    "import pandas as pd\n",
    "from sklearn.model_selection import train_test_split\n",
    "from sklearn.neighbors import KNeighborsClassifier\n",
    "from sklearn.metrics import classification_report, confusion_matrix\n",
    "\n",
    "# Carregar o dataset\n",
    "df = dados_mar\n",
    "\n",
    "# Separar features (X) e target (y)\n",
    "X = df[['pH', 'Temperatura (°C)', 'Turbidez (NTU)', 'Oxigênio Dissolvido (mg/L)', 'Condutividade (µS/cm)']]\n",
    "y = df['condicao_animais_marinhos']  # Usaremos o evento prejudicial combinado como target\n",
    "\n",
    "# Dividir os dados em conjuntos de treino e teste\n",
    "X_train, X_test, y_train, y_test = train_test_split(X, y, test_size=0.2, random_state=0)\n",
    "\n",
    "# Função de normalização personalizada\n",
    "def normalizar(x, min_x, max_x):\n",
    "    return (x - min_x) / (max_x - min_x)\n",
    "\n",
    "# Calcular mínimos e máximos dos dados de treino\n",
    "min_train = X_train.min()\n",
    "max_train = X_train.max()\n",
    "\n",
    "# Aplicar a função de normalização aos conjuntos de treino e teste\n",
    "X_train_normalizado = normalizar(X_train, min_train, max_train)\n",
    "X_test_normalizado = normalizar(X_test, min_train, max_train)\n",
    "\n",
    "# Criar um modelo KNN\n",
    "knn = KNeighborsClassifier(n_neighbors=5)\n",
    "\n",
    "# Treinar o modelo\n",
    "knn.fit(X_train_normalizado, y_train)\n",
    "\n",
    "# Fazer previsões no conjunto de teste\n",
    "y_pred = knn.predict(X_test_normalizado)\n",
    "\n",
    "# Avaliar o desempenho do modelo\n",
    "print(\"Matriz de Confusão:\")\n",
    "print(confusion_matrix(y_test, y_pred))\n",
    "print(\"\\nRelatório de Classificação:\")\n",
    "print(classification_report(y_test, y_pred))"
   ]
  },
  {
   "cell_type": "code",
   "execution_count": null,
   "metadata": {},
   "outputs": [],
   "source": [
    "# Exemplos de novos dados para prever\n",
    "novos_dados = [\n",
    "    [7.0, 25.0, 14.0, 5.7, 500.0], # Não prejudicial\n",
    "    [6.5, 22.0, 12.0, 6.5, 450.0], # Não prejudicial\n",
    "    [8.0, 26.0, 16.0, 5.0, 2000],  # Prejudicial\n",
    "    [7.2, 24.0, 15.0, 6.0, 480.0], # Não prejudical\n",
    "    [8.0, 31.0, 22.0, 5.0, 2000]   # Prejudicial\n",
    "]\n",
    "\n",
    "# Converter novos dados para um DataFrame para aplicar a normalização\n",
    "novos_dados_df = pd.DataFrame(novos_dados, columns=['pH', 'Temperatura (°C)', 'Turbidez (NTU)', 'Oxigênio Dissolvido (mg/L)', 'Condutividade (µS/cm)'])\n",
    "\n",
    "# Normalizar os novos dados usando os mínimos e máximos dos dados de treino\n",
    "novos_dados_norm = normalizar(novos_dados_df, min_train, max_train)\n",
    "\n",
    "# Prever se será um evento prejudicial ou não\n",
    "previsoes = knn.predict(novos_dados_norm)\n",
    "\n",
    "print(\"\\nPrevisões para os novos dados:\")\n",
    "for i, pred in enumerate(previsoes):\n",
    "    print(f\"Exemplo {i+1}: {'Será um evento prejudicial' if pred == 1 else 'Não será um evento prejudicial'}\")"
   ]
  },
  {
   "cell_type": "code",
   "execution_count": null,
   "metadata": {},
   "outputs": [],
   "source": []
  },
  {
   "cell_type": "code",
   "execution_count": null,
   "metadata": {},
   "outputs": [],
   "source": []
  }
 ],
 "metadata": {
  "kernelspec": {
   "display_name": "base",
   "language": "python",
   "name": "python3"
  },
  "language_info": {
   "codemirror_mode": {
    "name": "ipython",
    "version": 3
   },
   "file_extension": ".py",
   "mimetype": "text/x-python",
   "name": "python",
   "nbconvert_exporter": "python",
   "pygments_lexer": "ipython3",
   "version": "3.11.7"
  }
 },
 "nbformat": 4,
 "nbformat_minor": 2
}
